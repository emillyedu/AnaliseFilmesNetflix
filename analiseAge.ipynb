{
 "cells": [
  {
   "cell_type": "code",
   "execution_count": 7,
   "metadata": {},
   "outputs": [],
   "source": [
    "import pandas as pd\n",
    "\n",
    "#importando base de dados\n",
    "\n",
    "df = pd.read_csv(\"dadosNetflix.csv\")\n"
   ]
  },
  {
   "cell_type": "code",
   "execution_count": null,
   "metadata": {},
   "outputs": [],
   "source": [
    "#excluindo coluna language\n",
    "df = df.drop(columns=['Language'])\n",
    "df.info()\n"
   ]
  },
  {
   "cell_type": "code",
   "execution_count": null,
   "metadata": {},
   "outputs": [],
   "source": [
    "df = df.dropna(how= 'any', axis = 0)\n",
    "\n",
    "print(\"dataframe: \", df.shape)\n",
    "df"
   ]
  },
  {
   "cell_type": "code",
   "execution_count": null,
   "metadata": {},
   "outputs": [],
   "source": [
    "#age\n",
    "#achar valores unicos\n",
    "\n",
    "# count\n",
    "#cnt = 0\n",
    "  \n",
    "# visited values\n",
    "#visited = []\n",
    "  \n",
    "# loop for counting the unique\n",
    "#for i in range(0, len(df['Age'])):\n",
    "    \n",
    "#    if df['Age'][i] not in visited: \n",
    "        \n",
    "#        visited.append(df['Age'][i])\n",
    "          \n",
    "#        cnt += 1\n",
    "\n",
    "#print(\"No.of.unique values :\", cnt)\n",
    "  \n",
    "#print(\"unique values :\", visited)\n",
    "\n",
    "\n",
    "#print(\"n de valores unicos em age :\", n)\n",
    "\n",
    "df = df.loc[(df['Age'] == +18.0)]\n",
    "df\n",
    "\n"
   ]
  }
 ],
 "metadata": {
  "interpreter": {
   "hash": "f191607bc9128f2db60505dc65bd0fd9636e4293b46936ed17e5ca180030e8ba"
  },
  "kernelspec": {
   "display_name": "Python 3.9.7 64-bit",
   "name": "python3"
  },
  "language_info": {
   "codemirror_mode": {
    "name": "ipython",
    "version": 3
   },
   "file_extension": ".py",
   "mimetype": "text/x-python",
   "name": "python",
   "nbconvert_exporter": "python",
   "pygments_lexer": "ipython3",
   "version": "3.9.7"
  },
  "orig_nbformat": 4
 },
 "nbformat": 4,
 "nbformat_minor": 2
}
