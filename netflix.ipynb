{
 "cells": [
  {
   "cell_type": "code",
   "execution_count": 1,
   "id": "9e2205d8",
   "metadata": {},
   "outputs": [],
   "source": [
    "#tratamento de dados\n",
    "    #apenas dados da netflix #\n",
    "    #excluir colunas #\n",
    "    #filtrar pelos anos:2021, 2020, 2019, 2018 #\n",
    "    #excluir linhas com algum numero vazio ------\n",
    "    #alterar de string para float : classificação -------\n",
    "    #alter de string para int : Age ------"
   ]
  },
  {
   "cell_type": "code",
   "execution_count": 2,
   "id": "b92bf99f",
   "metadata": {},
   "outputs": [],
   "source": [
    "import pandas as pd\n",
    "\n",
    "#importando base de dados\n",
    "\n",
    "df = pd.read_csv(\"./csv/filmes.csv\")\n",
    "\n",
    "#copia do df com apenas os filmes da netflix\n",
    "df_netflix = df[df.Netflix == 1].copy()"
   ]
  },
  {
   "cell_type": "code",
   "execution_count": null,
   "id": "a92b4959",
   "metadata": {},
   "outputs": [],
   "source": [
    "#excluindo colunas desnecessárias\n",
    "df_netflix = df_netflix.drop(columns=['Hulu'])\n",
    "df_netflix = df_netflix.drop(columns=['Disney+'])\n",
    "df_netflix = df_netflix.drop(columns=['Type'])\n",
    "df_netflix = df_netflix.drop(columns=['Directors'])\n",
    "df_netflix = df_netflix.drop(columns=['Unnamed: 0'])\n",
    "df_netflix = df_netflix.drop(columns=['ID'])\n",
    "df_netflix = df_netflix.drop(columns=['Rotten Tomatoes'])\n",
    "df_netflix = df_netflix.drop(columns=['Prime Video'])\n",
    "df_netflix = df_netflix.drop(columns=['Runtime;'])\n",
    "df_netflix"
   ]
  },
  {
   "cell_type": "code",
   "execution_count": null,
   "id": "9f2b4cc1",
   "metadata": {},
   "outputs": [],
   "source": [
    "print(\"dataframe: \", df_netflix.shape)\n",
    "df_netflix.info()"
   ]
  },
  {
   "cell_type": "code",
   "execution_count": 5,
   "id": "8f8947a6",
   "metadata": {},
   "outputs": [
    {
     "name": "stdout",
     "output_type": "stream",
     "text": [
      "dataframe:  (444, 8)\n"
     ]
    }
   ],
   "source": [
    "#filtrar anos: 2021, 2020, 2019, 2018\n",
    "df_netflix = df_netflix.loc[(df_netflix['Year'] == 2021) | (df_netflix['Year'] == 2020) | (df_netflix['Year'] == 2019) | (df_netflix['Year'] == 2018) ]\n",
    "\n",
    "print(\"dataframe: \", df_netflix.shape)"
   ]
  },
  {
   "cell_type": "code",
   "execution_count": null,
   "id": "13721f4b",
   "metadata": {},
   "outputs": [],
   "source": [
    "#alterar de string para float : classificação\n",
    "df_netflix['IMDb'] = pd.to_numeric(df_netflix['IMDb'], errors = \"coerce\")\n",
    "df_netflix.info()"
   ]
  },
  {
   "cell_type": "code",
   "execution_count": 7,
   "metadata": {},
   "outputs": [],
   "source": [
    "#exportanto base tratada para csv\n",
    "\n",
    "#df_netflix.to_csv(\"./csv/dadosNetflix.csv\")"
   ]
  },
  {
   "cell_type": "code",
   "execution_count": null,
   "metadata": {},
   "outputs": [],
   "source": [
    "#age\n",
    "\n",
    "#achar valores unicos\n",
    "n = df_netflix.Age.nunique()\n",
    "\n",
    "# contagem\n",
    "cnt = 0\n",
    "\n",
    "#valores visitados \n",
    "visited = []\n",
    "\n",
    "# loop para contar o único\n",
    "# valores em altura\n",
    "for i in range(0, len(df['Age'])):\n",
    "    \n",
    "    if df['Age'][i] not in visited: \n",
    "        \n",
    "        visited.append(df['Age'][i])\n",
    "          \n",
    "        cnt += 1\n",
    "\n",
    "print(\"No.of.unique values :\",\n",
    "      cnt)\n",
    "  \n",
    "print(\"unique values :\",\n",
    "      visited)\n",
    "\n",
    "\n",
    "print(\"n de valores unicos em age :\", n)\n",
    "\n",
    "df_netflix = df_netflix.loc[(df['Age'] == '18+')]\n",
    "df_netflix.shape"
   ]
  },
  {
   "cell_type": "code",
   "execution_count": null,
   "metadata": {},
   "outputs": [],
   "source": [
    "#generos\n",
    "\n",
    "#achar valores unicos\n",
    "n = df_netflix.Genres.nunique()\n",
    "\n",
    "cnt = 0\n",
    "  \n",
    "visited = []\n",
    "\n",
    "for i in range(0, len(df['Genres'])):\n",
    "    \n",
    "    if df['Genres'][i] not in visited: \n",
    "        \n",
    "        visited.append(df['Genres'][i])\n",
    "          \n",
    "        cnt += 1\n",
    "\n",
    "print(\"No.of.unique values :\",\n",
    "      cnt)\n",
    "  \n",
    "print(\"unique values :\",\n",
    "      visited)\n",
    "\n",
    "\n",
    "print(\"n de valores unicos :\", n) "
   ]
  },
  {
   "cell_type": "code",
   "execution_count": null,
   "metadata": {},
   "outputs": [],
   "source": [
    "#paises\n",
    "\n",
    "#achar valores unicos\n",
    "n = df_netflix.Country.nunique()\n",
    "\n",
    "cnt = 0\n",
    "  \n",
    "visited = []\n",
    "\n",
    "for i in range(0, len(df['Country'])):\n",
    "    \n",
    "    if df['Country'][i] not in visited: \n",
    "        \n",
    "        visited.append(df['Country'][i])\n",
    "          \n",
    "        cnt += 1\n",
    "\n",
    "print(\"No.of.unique values :\",\n",
    "      cnt)\n",
    "  \n",
    "print(\"unique values :\",\n",
    "      visited)\n",
    "\n",
    "print(\"n de valores unicos :\", n) \n",
    "\n",
    "df_netflix = df_netflix.loc[(df_netflix['Country'] == 'United States')]\n",
    "df_netflix.shape"
   ]
  }
 ],
 "metadata": {
  "interpreter": {
   "hash": "f191607bc9128f2db60505dc65bd0fd9636e4293b46936ed17e5ca180030e8ba"
  },
  "kernelspec": {
   "display_name": "Python 3.9.7 64-bit",
   "name": "python3"
  },
  "language_info": {
   "codemirror_mode": {
    "name": "ipython",
    "version": 3
   },
   "file_extension": ".py",
   "mimetype": "text/x-python",
   "name": "python",
   "nbconvert_exporter": "python",
   "pygments_lexer": "ipython3",
   "version": "3.9.7"
  }
 },
 "nbformat": 4,
 "nbformat_minor": 5
}
